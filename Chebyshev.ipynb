{
 "cells": [
  {
   "cell_type": "markdown",
   "metadata": {},
   "source": [
    "# Travail Personnel (optionel, voir fiche de cours) d'analyse numérique MATH-F314(1), année académique 2024-2025\n",
    "\n",
    "## Nom / Prénom :\n",
    "\n",
    "+++\n",
    "\n",
    "Remarque: en soumettant ce travail, vous vous engagez à le faire de manière individuelle. Tout plagiat sera sanctionné selon le réglement en vigueur à l'Université Libre de Bruxelles.\n",
    "\n",
    "La date limite de remise de ce travail est le 20/12/2024 à 23h59:59s. Après cette date, il ne sera pas comptabilisé.\n",
    "\n",
    "+++\n",
    "\n"
   ]
  },
  {
   "cell_type": "markdown",
   "metadata": {},
   "source": [
    "## Introduction"
   ]
  },
  {
   "cell_type": "markdown",
   "metadata": {},
   "source": [
    "Soit $f:x\\mapsto f(x)$ une fonction définie sur l'interval $x\\in [-1,1]$.\n",
    "\n",
    "Dans le cours, nous avons décrit la méthode des différences finies pour calculer les dérivées de cette fonction sur grille uniforme.\n",
    "\n",
    "Nous allons explorer ici une autre méthode de différentiation, appelée méthode spectrale. Celle-ci est basée sur la décomposition d'une fonction en polynômes de Chebyshev. Ces polynômes constituent une base orthonormée sur l'interval $[-1, 1]$ et n'importe quelle fonction continue et dérivable par morceaux peut s'écrire sous la forme de la série suivante,\n",
    "$$\n",
    "f(x) = \\sum_{n=0}^\\infty a_n T_n(x),\n",
    "$$\n",
    "où les $a_n$ sont les coefficients du développement et $T_n(x)$ représente le n-ième ploynôme de Chebyshev ($T_0(x)=1, T_1(x)=x, T_2(x)=2x^2-1, T_3(x)=4x^3-3x, \\ldots$).\n",
    "\n",
    "Lorsqu'on discrétise la fonction $f$, on limite le nombre de termes dans le développment en série,\n",
    "$$\n",
    "f(x) \\approx \\sum_{n=0}^N a_n T_n(x).\n",
    "$$\n",
    "Cette approximation converge très rapidement vers $f$ lorsque $N\\rightarrow \\infty$ et on a aussi,\n",
    "$$\n",
    "\\frac{df}{dx}(x) \\approx \\sum_{n=0}^N a_n T'_n(x).\n",
    "$$\n",
    "\n",
    "Ces décompositions permettent de calculer avec une grande précision les dérivées de la fonction $f$ aux $N+1$ points suivants:\n",
    "\\begin{equation}\n",
    "x_j=-\\cos(\\frac{\\pi j}{N}), \\quad j=0, 1, \\ldots, N-1, N.\n",
    "\\end{equation}\n",
    "Ces points $x_j$ sont distribués selon la grille appelée *grille cosinus*.\n",
    "\n",
    "Grâce aux propriétés des polynômes de Chebyshev, on peut montrer que la matrice de différentiation (dérivée première) est donnée par,\n",
    "\\begin{equation}\n",
    "D_{ij}=\n",
    "\\begin{cases}\n",
    "\\frac{c_i(-1)^{i+j}}{c_j (x_i - x_j)}\\quad j\\not= i\\\\ \\\\\n",
    "\\frac{-x_j}{2(1-x_j^2)} \\quad i=j, \\quad j\\not= 0,N\\\\ \\\\\n",
    "-\\frac{2N^2+1}{6}\\quad i=j=0 \\\\ \\\\\n",
    "\\frac{2N^2+1}{6}\\quad i=j=N\n",
    "\\end{cases}\n",
    "\\end{equation}\n",
    "avec,\n",
    "\\begin{equation}\n",
    "c_j=\n",
    "\\begin{cases}\n",
    "2 \\quad \\mathrm{si}\\ j=0,N \\\\ \\\\\n",
    "1 \\quad \\mathrm{si}\\ j\\not=0,N\n",
    "\\end{cases}\n",
    "\\end{equation}\n",
    "\n",
    "On a alors,\n",
    "\\begin{equation}\n",
    "\\frac{df}{dx}(x_i) = D_{ij} f({x_j})\n",
    "\\end{equation}\n",
    "\n",
    "On peut par ailleurs montrer que les dérivées d'ordres supérieurs s'obtiennent par l'application successive de la dérivée première,\n",
    "\\begin{equation}\n",
    "\\frac{d^n f}{dx^n}(x_i) = (D^n)_{ij} f({x_j}).\n",
    "\\end{equation}\n"
   ]
  },
  {
   "cell_type": "markdown",
   "metadata": {},
   "source": [
    "### Question 1"
   ]
  },
  {
   "cell_type": "markdown",
   "metadata": {},
   "source": [
    "En utilisant la méthode spectrale définie ci-dessous, calculer la dérivée première de la fonction $f(x)=4(x^2-x^4)e^{-x/2}$ aux points de la grille cosinus et vérifier graphiquement qu'elle reproduit bien les valeurs exactes (on prendra N=16). En particulier, que vaut $f(x_3)$ ?\n",
    "\n",
    ">Implémentation de D: 1pt\n",
    ">\n",
    ">Graphique (avec légendes etc.): 0.5pt\n",
    ">\n",
    ">f(x_3): 0.5pt"
   ]
  },
  {
   "cell_type": "markdown",
   "metadata": {},
   "source": [
    "### Question 2"
   ]
  },
  {
   "cell_type": "markdown",
   "metadata": {},
   "source": [
    "Refaire le même graphique qu'à la question 1 sur une grille uniforme mais en utilisant la méthode des différences finies (utilser une méthode d'ordre 2).\n",
    "\n",
    ">Graphique: 1pt"
   ]
  },
  {
   "cell_type": "markdown",
   "metadata": {},
   "source": [
    "### Question 3\n",
    "\n",
    "Vérifier graphiquement que pour la méthode des différences finies, l'erreur sur le calcul de $f'(0)$ est bien d'ordre $O(dx^2)$.\n",
    "\n",
    "ps: pour cette question il faut bien s'arrurer que le point x=0 fasse partie de la grille uniforme.\n",
    "\n",
    ">Graphique: 1pt"
   ]
  },
  {
   "cell_type": "markdown",
   "metadata": {},
   "source": [
    "### Question 4\n",
    "\n",
    "Sur un même graphique, représenter l'erreur sur le calcul de $f'(0)$ en fonctions de $N$, en utilisant respectivement la méthode des différences finies et la méthode spectrale. Qu'en concluez-vous ?\n",
    "\n",
    ">Graphique: 2pts (1pt par méthode)\n",
    ">\n",
    ">Conclusion: 1pt\n"
   ]
  },
  {
   "cell_type": "markdown",
   "metadata": {},
   "source": [
    "### Question 5\n",
    "\n",
    "Soit l'équation de la chaleur dans l'interval $x\\in [1,-1]$,\n",
    "$$\n",
    "\\frac{\\partial T}{\\partial t}(x,t)=\\alpha \\frac{\\partial^2 T}{\\partial x^2}(x,t) + \\sigma(x),\n",
    "$$\n",
    "avec,\n",
    "$$\n",
    "\\sigma(x) = 40 \\cos(\\frac \\pi 2 (x-1)) \\cos(\\frac\\pi 4 (x-1))\n",
    "$$\n",
    "Les conditions aux bords imposées sur la fonction $T(x,t)$ sont,\n",
    "$$\n",
    "T(-1,t) = 0, \\quad T'(1,t)=1, \\quad \\forall t > 0.\n",
    "$$\n",
    "La condition initiale du problème est donnée par,\n",
    "$$\n",
    "T(x,0)= 5 \\cos(\\frac{11\\pi}{4}(x-1)) + x + 1\n",
    "$$\n",
    "\n",
    "En résolvant cette équation par la méthode d'avancement dans le temps 'Euler explicite' et la discrétisation spectrale de la dérivée $\\frac{\\partial^2 T}{\\partial x^2}$, calculer $T(x=0,t=0.02)$. On prendra $\\alpha = 1$, $N=22$ et $dt=0.0001$.\n",
    "\n",
    "\n",
    "\n",
    ">Avancement dans le temps conforme aux instructions: 2pts\n",
    ">\n",
    ">T(x=0, t=0.02): 1pt\n",
    "```"
   ]
  },
  {
   "cell_type": "markdown",
   "metadata": {},
   "source": [
    "### Question 6\n",
    "\n",
    "Pour le problème décrit à la question 5, déterminer empiriquement la dépendence de $dt$ en fonction de $N$ pour obtenir une solution numériquement stable. Essayer de justifier simplement cette dépendence.\n",
    "\n",
    ">Graphique représentant la dépendance dt(N): 1pt\n",
    ">\n",
    ">Dépendance empirique: 1pt\n",
    ">\n",
    ">Justification: 1pt"
   ]
  },
  {
   "cell_type": "markdown",
   "metadata": {},
   "source": [
    "### Question 7 (bonus)\n",
    "\n",
    "Quelle est la solution exacte du problème décrit à la question 5 ? Comparer graphiquement cette solution avec la solution numérique obtenue ci-dessus pour $t=0.02$.\n",
    "\n",
    ">Solution exacte: 1pt\n",
    ">\n",
    ">Graphique: 1pt"
   ]
  },
  {
   "cell_type": "markdown",
   "metadata": {},
   "source": []
  }
 ],
 "metadata": {
  "anaconda-cloud": {},
  "kernelspec": {
   "display_name": "course",
   "language": "python",
   "name": "python3"
  },
  "language_info": {
   "codemirror_mode": {
    "name": "ipython",
    "version": 3
   },
   "file_extension": ".py",
   "mimetype": "text/x-python",
   "name": "python",
   "nbconvert_exporter": "python",
   "pygments_lexer": "ipython3",
   "version": "3.11.5"
  }
 },
 "nbformat": 4,
 "nbformat_minor": 2
}
